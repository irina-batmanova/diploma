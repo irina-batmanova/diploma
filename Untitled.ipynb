{
 "cells": [
  {
   "cell_type": "code",
   "execution_count": 45,
   "metadata": {},
   "outputs": [],
   "source": [
    "from bs4 import BeautifulSoup\n",
    "import numpy as np\n",
    "from nltk.tokenize import TweetTokenizer\n",
    "from sklearn.metrics.pairwise import cosine_similarity"
   ]
  },
  {
   "cell_type": "code",
   "execution_count": 21,
   "metadata": {},
   "outputs": [],
   "source": [
    "f = open('paraphrases_gold.xml', 'r')\n",
    "content = f.read()"
   ]
  },
  {
   "cell_type": "code",
   "execution_count": 41,
   "metadata": {},
   "outputs": [],
   "source": [
    "soup = BeautifulSoup(content)\n",
    "tknzr = TweetTokenizer()"
   ]
  },
  {
   "cell_type": "code",
   "execution_count": 24,
   "metadata": {},
   "outputs": [
    {
     "name": "stdout",
     "output_type": "stream",
     "text": [
      "<paraphrase>\n",
      "<value name=\"id\">25349</value>\n",
      "<value name=\"id_1\">34420</value>\n",
      "<value name=\"id_2\">34421</value>\n",
      "<value name=\"text_1\">Цены на нефть восстанавливаются</value>\n",
      "<value name=\"text_2\">Парламент Словакии поблагодарил народы бывшего СССР за Победу</value>\n",
      "<value name=\"class\">-1</value>\n",
      "</paraphrase>\n"
     ]
    }
   ],
   "source": [
    "paraphrases = soup.findAll(\"paraphrase\")\n",
    "print(paraphrases[0])"
   ]
  },
  {
   "cell_type": "code",
   "execution_count": 36,
   "metadata": {},
   "outputs": [],
   "source": [
    "russian_baselines = {}\n",
    "english_baselines = {}\n",
    "\n",
    "with open('attract/baselines/en-ru.txt', 'r') as f:\n",
    "    strings = f.readlines()\n",
    "    for s in strings:\n",
    "        parts = s.split()\n",
    "        if parts[0].startswith(\"en_\"):\n",
    "            english_baselines[parts[0][3:]] = np.array([float(part) for part in parts[1:]], dtype=float)\n",
    "        elif parts[0].startswith(\"ru_\"):\n",
    "            russian_baselines[parts[0][3:]] = np.array([float(part) for part in parts[1:]], dtype=float)"
   ]
  },
  {
   "cell_type": "code",
   "execution_count": 37,
   "metadata": {},
   "outputs": [],
   "source": [
    "russian_tuned = {}\n",
    "english_tuned = {}\n",
    "\n",
    "with open('attract/results/final_vectors.txt', 'r') as f:\n",
    "    strings = f.readlines()\n",
    "    for s in strings:\n",
    "        parts = s.split()\n",
    "        if parts[0].startswith(\"en_\"):\n",
    "            english_tuned[parts[0][3:]] = np.array([float(part) for part in parts[1:]], dtype=float)\n",
    "        elif parts[0].startswith(\"ru_\"):\n",
    "            russian_tuned[parts[0][3:]] = np.array([float(part) for part in parts[1:]], dtype=float)"
   ]
  },
  {
   "cell_type": "code",
   "execution_count": null,
   "metadata": {},
   "outputs": [],
   "source": []
  },
  {
   "cell_type": "code",
   "execution_count": 62,
   "metadata": {},
   "outputs": [],
   "source": [
    "num_success_baseline = 0\n",
    "num_success_tuned = 0\n",
    "num_sent = 0\n",
    "for par in paraphrases:\n",
    "    s1_words = tknzr.tokenize(par.findAll(\"value\", {\"name\": \"text_1\"})[0].text.lower())\n",
    "    s2_words = tknzr.tokenize(par.findAll(\"value\", {\"name\": \"text_2\"})[0].text.lower())\n",
    "    sim = int(par.findAll(\"value\", {\"name\": \"class\"})[0].text)\n",
    "    s1_emb_baseline = [0] * 300\n",
    "    c1_baseline = 0\n",
    "    s2_emb_baseline = [0] * 300\n",
    "    c2_baseline = 0\n",
    "    s1_emb_tuned = [0] * 300\n",
    "    c1_tuned = 0\n",
    "    s2_emb_tuned = [0] * 300\n",
    "    c2_tuned = 0\n",
    "    for w in s1_words:\n",
    "        if w in russian_baselines.keys():\n",
    "            s1_emb_baseline += russian_baselines[w]\n",
    "            c1_baseline += 1\n",
    "            s1_emb_tuned += russian_tuned[w]\n",
    "            c1_tuned += 1\n",
    "    for w in s2_words:\n",
    "        if w in russian_baselines.keys():\n",
    "            s2_emb_baseline += russian_baselines[w]\n",
    "            c2_baseline += 1\n",
    "            s2_emb_tuned += russian_tuned[w]\n",
    "            c2_tuned += 1\n",
    "            \n",
    "    if c1_baseline != 0 and c1_tuned != 0 and c2_baseline != 0 and c2_tuned != 0:\n",
    "        num_sent += 1\n",
    "        s1_emb_baseline = np.array(s1_emb_baseline) / c1_baseline\n",
    "        s1_emb_tuned = np.array(s1_emb_tuned) / c1_tuned\n",
    "        s2_emb_baseline = np.array(s2_emb_baseline) / c2_baseline\n",
    "        s2_emb_tuned = np.array(s2_emb_tuned) / c2_tuned\n",
    "\n",
    "        cosine_base = cosine_similarity(np.array(s1_emb_baseline).reshape(1, -1), s2_emb_baseline.reshape(1, -1))\n",
    "        if cosine_base > 0.9 and sim == 1:\n",
    "            num_success_baseline += 1\n",
    "        elif cosine_base >= 0.3 and cosine_base <= 0.8 and sim == 0:\n",
    "            num_success_baseline += 1\n",
    "        elif cosine_base < 0.3 and sim == -1:\n",
    "            num_success_baseline += 1\n",
    "        cosine_tuned = cosine_similarity(s1_emb_tuned.reshape(1, -1), s2_emb_tuned.reshape(1, -1))\n",
    "        if cosine_tuned > 0.8 and sim == 1:\n",
    "            num_success_tuned += 1\n",
    "        elif cosine_tuned >= 0.3 and cosine_tuned <= 0.8 and sim == 0:\n",
    "            num_success_tuned += 1\n",
    "        elif cosine_tuned < 0.3 and sim == -1:\n",
    "            num_success_tuned += 1    \n",
    "\n",
    "    \n",
    "            "
   ]
  },
  {
   "cell_type": "code",
   "execution_count": 63,
   "metadata": {},
   "outputs": [
    {
     "name": "stdout",
     "output_type": "stream",
     "text": [
      "676\n",
      "682\n",
      "1700\n",
      "1924\n"
     ]
    }
   ],
   "source": [
    "print(num_success_baseline)\n",
    "print(num_success_tuned)\n",
    "print(num_sent)\n",
    "print(len(paraphrases))"
   ]
  },
  {
   "cell_type": "code",
   "execution_count": 33,
   "metadata": {},
   "outputs": [
    {
     "name": "stdout",
     "output_type": "stream",
     "text": [
      "Цены на нефть восстанавливаются\n"
     ]
    }
   ],
   "source": [
    "values = paraphrases[0].findAll(\"value\", {\"name\": \"text_1\"})\n",
    "print(values[0].text)"
   ]
  }
 ],
 "metadata": {
  "kernelspec": {
   "display_name": "Python 3",
   "language": "python",
   "name": "python3"
  },
  "language_info": {
   "codemirror_mode": {
    "name": "ipython",
    "version": 3
   },
   "file_extension": ".py",
   "mimetype": "text/x-python",
   "name": "python",
   "nbconvert_exporter": "python",
   "pygments_lexer": "ipython3",
   "version": "3.5.3"
  }
 },
 "nbformat": 4,
 "nbformat_minor": 2
}
